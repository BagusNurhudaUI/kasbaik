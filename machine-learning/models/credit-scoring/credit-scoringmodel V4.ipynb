{
 "cells": [
  {
   "cell_type": "markdown",
   "metadata": {},
   "source": [
    "### Import Library"
   ]
  },
  {
   "cell_type": "code",
   "execution_count": 1,
   "metadata": {},
   "outputs": [],
   "source": [
    "import pandas as pd\n",
    "import numpy as np\n",
    "import seaborn as sns\n",
    "from matplotlib import pyplot as plt\n",
    "from sklearn.model_selection import train_test_split\n",
    "from keras.callbacks import ModelCheckpoint\n",
    "import tensorflow as tf\n",
    "from sklearn.preprocessing import MinMaxScaler"
   ]
  },
  {
   "cell_type": "markdown",
   "metadata": {},
   "source": [
    "### Fico Score Range"
   ]
  },
  {
   "cell_type": "markdown",
   "metadata": {},
   "source": [
    "![Alt Text](https://raw.githubusercontent.com/imamfirdaus-if/kasbaik/main/machine-learning/models/credit-scoring/fico-score-range.png?token=GHSAT0AAAAAABSMKRBXBRLCGJM4FZSTSVYYYVIAIWA)"
   ]
  },
  {
   "cell_type": "markdown",
   "metadata": {},
   "source": [
    "### Variables"
   ]
  },
  {
   "cell_type": "markdown",
   "metadata": {},
   "source": [
    "**Usia** : 21 s/d 100\n",
    " - 1 : >64\n",
    " - 2 : 21 - 64\n",
    "\n",
    "**Econ**  \n",
    " - 5 : econ >= 200000\n",
    " - 4 : 1500000 <=  econ < 1999999\n",
    " - 3 : 1000000 <= econ < 1499999\n",
    " - 2 : 500000 <=  econ < 999999\n",
    " - 1 : 10000 <=  econ  < 499999\n",
    " - 0 : econ <= 10000\n",
    " \n",
    "**Pekerjaan** \n",
    " - 1 : Wirausaha/ Pedagang/ Pekerja Lepas\n",
    " - 2 : Buruh/Guru/Dosen\n",
    "\n",
    "**Peminjaman ke-** \n",
    " - 1 : 1 \n",
    " - 2 : 2- 3 \n",
    " - 3 : > 3\n",
    " \n",
    "**Hari telat bayar** \n",
    " - 0 : tidak pernah \n",
    " - 1 : < 1 minggu \n",
    " - 2 : 2 - 4 minggu \n",
    " - 3 : > 4 minggu\n",
    " \n",
    "**Pernah Donasi** \n",
    " - 0 : tidak pernah \n",
    " - 1 : 1 - 3\n",
    " - 2 : 3- 5\n",
    " - 3 : >= 6"
   ]
  },
  {
   "cell_type": "markdown",
   "metadata": {},
   "source": [
    "### Open Dataset"
   ]
  },
  {
   "cell_type": "code",
   "execution_count": 2,
   "metadata": {},
   "outputs": [
    {
     "name": "stdout",
     "output_type": "stream",
     "text": [
      "First line (header) looks like this:\n",
      "\n",
      ",usia,econ,pekerjaan,pinjaman ke,telat bayar,donasi,score\n",
      "\n",
      "Each data point looks like this:\n",
      "\n",
      "0,2.0,5.0,2.0,3.0,0.0,3.0,849.969\n",
      "\n"
     ]
    }
   ],
   "source": [
    "with open(\"./dataset credit-scoring/Dummy Datasets FICO Scoring - V41 - Final.csv\", 'r') as csvfile:\n",
    "    print(f\"First line (header) looks like this:\\n\\n{csvfile.readline()}\")\n",
    "    print(f\"Each data point looks like this:\\n\\n{csvfile.readline()}\")"
   ]
  },
  {
   "cell_type": "code",
   "execution_count": 3,
   "metadata": {},
   "outputs": [
    {
     "data": {
      "text/html": [
       "<div>\n",
       "<style scoped>\n",
       "    .dataframe tbody tr th:only-of-type {\n",
       "        vertical-align: middle;\n",
       "    }\n",
       "\n",
       "    .dataframe tbody tr th {\n",
       "        vertical-align: top;\n",
       "    }\n",
       "\n",
       "    .dataframe thead th {\n",
       "        text-align: right;\n",
       "    }\n",
       "</style>\n",
       "<table border=\"1\" class=\"dataframe\">\n",
       "  <thead>\n",
       "    <tr style=\"text-align: right;\">\n",
       "      <th></th>\n",
       "      <th>usia</th>\n",
       "      <th>econ</th>\n",
       "      <th>pekerjaan</th>\n",
       "      <th>pinjaman ke</th>\n",
       "      <th>telat bayar</th>\n",
       "      <th>donasi</th>\n",
       "      <th>score</th>\n",
       "    </tr>\n",
       "  </thead>\n",
       "  <tbody>\n",
       "    <tr>\n",
       "      <th>0</th>\n",
       "      <td>2.0</td>\n",
       "      <td>5.0</td>\n",
       "      <td>2.0</td>\n",
       "      <td>3.0</td>\n",
       "      <td>0.0</td>\n",
       "      <td>3.0</td>\n",
       "      <td>849.969</td>\n",
       "    </tr>\n",
       "    <tr>\n",
       "      <th>1</th>\n",
       "      <td>1.0</td>\n",
       "      <td>0.0</td>\n",
       "      <td>1.0</td>\n",
       "      <td>1.0</td>\n",
       "      <td>3.0</td>\n",
       "      <td>0.0</td>\n",
       "      <td>110.833</td>\n",
       "    </tr>\n",
       "    <tr>\n",
       "      <th>2</th>\n",
       "      <td>1.0</td>\n",
       "      <td>0.0</td>\n",
       "      <td>1.0</td>\n",
       "      <td>2.0</td>\n",
       "      <td>2.0</td>\n",
       "      <td>3.0</td>\n",
       "      <td>324.136</td>\n",
       "    </tr>\n",
       "    <tr>\n",
       "      <th>3</th>\n",
       "      <td>2.0</td>\n",
       "      <td>5.0</td>\n",
       "      <td>1.0</td>\n",
       "      <td>2.0</td>\n",
       "      <td>1.0</td>\n",
       "      <td>2.0</td>\n",
       "      <td>657.896</td>\n",
       "    </tr>\n",
       "    <tr>\n",
       "      <th>4</th>\n",
       "      <td>2.0</td>\n",
       "      <td>5.0</td>\n",
       "      <td>2.0</td>\n",
       "      <td>2.0</td>\n",
       "      <td>2.0</td>\n",
       "      <td>1.0</td>\n",
       "      <td>664.156</td>\n",
       "    </tr>\n",
       "  </tbody>\n",
       "</table>\n",
       "</div>"
      ],
      "text/plain": [
       "   usia  econ  pekerjaan  pinjaman ke  telat bayar  donasi    score\n",
       "0   2.0   5.0        2.0          3.0          0.0     3.0  849.969\n",
       "1   1.0   0.0        1.0          1.0          3.0     0.0  110.833\n",
       "2   1.0   0.0        1.0          2.0          2.0     3.0  324.136\n",
       "3   2.0   5.0        1.0          2.0          1.0     2.0  657.896\n",
       "4   2.0   5.0        2.0          2.0          2.0     1.0  664.156"
      ]
     },
     "execution_count": 3,
     "metadata": {},
     "output_type": "execute_result"
    }
   ],
   "source": [
    "data  = pd.read_csv(r'./dataset credit-scoring/Dummy Datasets FICO Scoring - V41 - Final.csv', delimiter=',')\n",
    "data = data.drop(columns=['Unnamed: 0'])\n",
    "data.head()"
   ]
  },
  {
   "cell_type": "markdown",
   "metadata": {},
   "source": []
  }
 ],
 "metadata": {
  "interpreter": {
   "hash": "52634da84371cba311ea128a5ea7cdc41ff074b781779e754b270ff9f8153cee"
  },
  "kernelspec": {
   "display_name": "Python 3.9.7 64-bit",
   "language": "python",
   "name": "python3"
  },
  "language_info": {
   "codemirror_mode": {
    "name": "ipython",
    "version": 3
   },
   "file_extension": ".py",
   "mimetype": "text/x-python",
   "name": "python",
   "nbconvert_exporter": "python",
   "pygments_lexer": "ipython3",
   "version": "3.9.7"
  },
  "orig_nbformat": 4
 },
 "nbformat": 4,
 "nbformat_minor": 2
}
