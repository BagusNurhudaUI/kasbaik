{
 "cells": [
  {
   "cell_type": "markdown",
   "metadata": {},
   "source": [
    "### Import Library"
   ]
  },
  {
   "cell_type": "code",
   "execution_count": 1,
   "metadata": {},
   "outputs": [],
   "source": [
    "import pandas as pd\n",
    "import numpy as np\n",
    "import seaborn as sns\n",
    "from matplotlib import pyplot as plt\n",
    "from sklearn.model_selection import train_test_split\n",
    "from keras.callbacks import ModelCheckpoint\n",
    "import tensorflow as tf\n",
    "from sklearn.preprocessing import MinMaxScaler"
   ]
  },
  {
   "cell_type": "markdown",
   "metadata": {},
   "source": [
    "### Fico Score Range"
   ]
  },
  {
   "cell_type": "markdown",
   "metadata": {},
   "source": [
    "![Alt Text](https://raw.githubusercontent.com/imamfirdaus-if/kasbaik/main/machine-learning/models/credit-scoring/fico-score-range.png?token=GHSAT0AAAAAABSMKRBXBRLCGJM4FZSTSVYYYVIAIWA)"
   ]
  },
  {
   "cell_type": "markdown",
   "metadata": {},
   "source": [
    "### Variables"
   ]
  },
  {
   "cell_type": "markdown",
   "metadata": {},
   "source": [
    "**Usia** : 21 s/d 100\n",
    " - 1 : >64\n",
    " - 2 : 21 - 64\n",
    "\n",
    "**Econ**  \n",
    " - 5 : econ >= 200000\n",
    " - 4 : 1500000 <=  econ < 1999999\n",
    " - 3 : 1000000 <= econ < 1499999\n",
    " - 2 : 500000 <=  econ < 999999\n",
    " - 1 : 10000 <=  econ  < 499999\n",
    " - 0 : econ <= 10000\n",
    " \n",
    "**Pekerjaan** \n",
    " - 1 : Wirausaha/ Pedagang/ Pekerja Lepas\n",
    " - 2 : Buruh/Guru/Dosen\n",
    "\n",
    "**Peminjaman ke-** \n",
    " - 1 : 1 \n",
    " - 2 : 2- 3 \n",
    " - 3 : > 3\n",
    " \n",
    "**Hari telat bayar** \n",
    " - 0 : tidak pernah \n",
    " - 1 : < 1 minggu \n",
    " - 2 : 2 - 4 minggu \n",
    " - 3 : > 4 minggu\n",
    " \n",
    "**Pernah Donasi** \n",
    " - 0 : tidak pernah \n",
    " - 1 : 1 - 3\n",
    " - 2 : 3- 5\n",
    " - 3 : >= 6"
   ]
  },
  {
   "cell_type": "markdown",
   "metadata": {},
   "source": []
  }
 ],
 "metadata": {
  "interpreter": {
   "hash": "52634da84371cba311ea128a5ea7cdc41ff074b781779e754b270ff9f8153cee"
  },
  "kernelspec": {
   "display_name": "Python 3.9.7 64-bit",
   "language": "python",
   "name": "python3"
  },
  "language_info": {
   "codemirror_mode": {
    "name": "ipython",
    "version": 3
   },
   "file_extension": ".py",
   "mimetype": "text/x-python",
   "name": "python",
   "nbconvert_exporter": "python",
   "pygments_lexer": "ipython3",
   "version": "3.9.7"
  },
  "orig_nbformat": 4
 },
 "nbformat": 4,
 "nbformat_minor": 2
}
