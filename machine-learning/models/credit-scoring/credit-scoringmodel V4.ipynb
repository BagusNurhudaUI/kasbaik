{
 "cells": [
  {
   "cell_type": "markdown",
   "metadata": {},
   "source": [
    "### Import Library"
   ]
  },
  {
   "cell_type": "code",
   "execution_count": 1,
   "metadata": {},
   "outputs": [],
   "source": [
    "import pandas as pd\n",
    "import numpy as np\n",
    "import seaborn as sns\n",
    "from matplotlib import pyplot as plt\n",
    "from sklearn.model_selection import train_test_split\n",
    "from keras.callbacks import ModelCheckpoint\n",
    "import tensorflow as tf\n",
    "from sklearn.preprocessing import MinMaxScaler"
   ]
  },
  {
   "cell_type": "markdown",
   "metadata": {},
   "source": [
    "### Fico Score Range"
   ]
  },
  {
   "cell_type": "markdown",
   "metadata": {},
   "source": [
    "![Alt Text](https://raw.githubusercontent.com/imamfirdaus-if/kasbaik/main/machine-learning/models/credit-scoring/fico-score-range.png?token=GHSAT0AAAAAABSMKRBXBRLCGJM4FZSTSVYYYVIAIWA)"
   ]
  },
  {
   "cell_type": "markdown",
   "metadata": {},
   "source": [
    "### Variables"
   ]
  },
  {
   "cell_type": "markdown",
   "metadata": {},
   "source": [
    "**Usia** : 21 s/d 100\n",
    " - 1 : >64\n",
    " - 2 : 21 - 64\n",
    "\n",
    "**Econ**  \n",
    " - 5 : econ >= 200000\n",
    " - 4 : 1500000 <=  econ < 1999999\n",
    " - 3 : 1000000 <= econ < 1499999\n",
    " - 2 : 500000 <=  econ < 999999\n",
    " - 1 : 10000 <=  econ  < 499999\n",
    " - 0 : econ <= 10000\n",
    " \n",
    "**Pekerjaan** \n",
    " - 1 : Wirausaha/ Pedagang/ Pekerja Lepas\n",
    " - 2 : Buruh/Guru/Dosen\n",
    "\n",
    "**Peminjaman ke-** \n",
    " - 1 : 1 \n",
    " - 2 : 2- 3 \n",
    " - 3 : > 3\n",
    " \n",
    "**Hari telat bayar** \n",
    " - 0 : tidak pernah \n",
    " - 1 : < 1 minggu \n",
    " - 2 : 2 - 4 minggu \n",
    " - 3 : > 4 minggu\n",
    " \n",
    "**Pernah Donasi** \n",
    " - 0 : tidak pernah \n",
    " - 1 : 1 - 3\n",
    " - 2 : 3- 5\n",
    " - 3 : >= 6"
   ]
  },
  {
   "cell_type": "markdown",
   "metadata": {},
   "source": [
    "### Open Dataset"
   ]
  },
  {
   "cell_type": "code",
   "execution_count": 2,
   "metadata": {},
   "outputs": [
    {
     "name": "stdout",
     "output_type": "stream",
     "text": [
      "First line (header) looks like this:\n",
      "\n",
      ",usia,econ,pekerjaan,pinjaman ke,telat bayar,donasi,score\n",
      "\n",
      "Each data point looks like this:\n",
      "\n",
      "0,2.0,5.0,2.0,3.0,0.0,3.0,849.969\n",
      "\n"
     ]
    }
   ],
   "source": [
    "with open(\"./dataset credit-scoring/Dummy Datasets FICO Scoring - V41 - Final.csv\", 'r') as csvfile:\n",
    "    print(f\"First line (header) looks like this:\\n\\n{csvfile.readline()}\")\n",
    "    print(f\"Each data point looks like this:\\n\\n{csvfile.readline()}\")"
   ]
  },
  {
   "cell_type": "code",
   "execution_count": 3,
   "metadata": {},
   "outputs": [
    {
     "data": {
      "text/html": [
       "<div>\n",
       "<style scoped>\n",
       "    .dataframe tbody tr th:only-of-type {\n",
       "        vertical-align: middle;\n",
       "    }\n",
       "\n",
       "    .dataframe tbody tr th {\n",
       "        vertical-align: top;\n",
       "    }\n",
       "\n",
       "    .dataframe thead th {\n",
       "        text-align: right;\n",
       "    }\n",
       "</style>\n",
       "<table border=\"1\" class=\"dataframe\">\n",
       "  <thead>\n",
       "    <tr style=\"text-align: right;\">\n",
       "      <th></th>\n",
       "      <th>usia</th>\n",
       "      <th>econ</th>\n",
       "      <th>pekerjaan</th>\n",
       "      <th>pinjaman ke</th>\n",
       "      <th>telat bayar</th>\n",
       "      <th>donasi</th>\n",
       "      <th>score</th>\n",
       "    </tr>\n",
       "  </thead>\n",
       "  <tbody>\n",
       "    <tr>\n",
       "      <th>0</th>\n",
       "      <td>2.0</td>\n",
       "      <td>5.0</td>\n",
       "      <td>2.0</td>\n",
       "      <td>3.0</td>\n",
       "      <td>0.0</td>\n",
       "      <td>3.0</td>\n",
       "      <td>849.969</td>\n",
       "    </tr>\n",
       "    <tr>\n",
       "      <th>1</th>\n",
       "      <td>1.0</td>\n",
       "      <td>0.0</td>\n",
       "      <td>1.0</td>\n",
       "      <td>1.0</td>\n",
       "      <td>3.0</td>\n",
       "      <td>0.0</td>\n",
       "      <td>110.833</td>\n",
       "    </tr>\n",
       "    <tr>\n",
       "      <th>2</th>\n",
       "      <td>1.0</td>\n",
       "      <td>0.0</td>\n",
       "      <td>1.0</td>\n",
       "      <td>2.0</td>\n",
       "      <td>2.0</td>\n",
       "      <td>3.0</td>\n",
       "      <td>324.136</td>\n",
       "    </tr>\n",
       "    <tr>\n",
       "      <th>3</th>\n",
       "      <td>2.0</td>\n",
       "      <td>5.0</td>\n",
       "      <td>1.0</td>\n",
       "      <td>2.0</td>\n",
       "      <td>1.0</td>\n",
       "      <td>2.0</td>\n",
       "      <td>657.896</td>\n",
       "    </tr>\n",
       "    <tr>\n",
       "      <th>4</th>\n",
       "      <td>2.0</td>\n",
       "      <td>5.0</td>\n",
       "      <td>2.0</td>\n",
       "      <td>2.0</td>\n",
       "      <td>2.0</td>\n",
       "      <td>1.0</td>\n",
       "      <td>664.156</td>\n",
       "    </tr>\n",
       "  </tbody>\n",
       "</table>\n",
       "</div>"
      ],
      "text/plain": [
       "   usia  econ  pekerjaan  pinjaman ke  telat bayar  donasi    score\n",
       "0   2.0   5.0        2.0          3.0          0.0     3.0  849.969\n",
       "1   1.0   0.0        1.0          1.0          3.0     0.0  110.833\n",
       "2   1.0   0.0        1.0          2.0          2.0     3.0  324.136\n",
       "3   2.0   5.0        1.0          2.0          1.0     2.0  657.896\n",
       "4   2.0   5.0        2.0          2.0          2.0     1.0  664.156"
      ]
     },
     "execution_count": 3,
     "metadata": {},
     "output_type": "execute_result"
    }
   ],
   "source": [
    "data  = pd.read_csv(r'./dataset credit-scoring/Dummy Datasets FICO Scoring - V41 - Final.csv', delimiter=',')\n",
    "data = data.drop(columns=['Unnamed: 0'])\n",
    "data.head()"
   ]
  },
  {
   "cell_type": "markdown",
   "metadata": {},
   "source": [
    "## Data Preprocessing"
   ]
  },
  {
   "cell_type": "markdown",
   "metadata": {},
   "source": [
    "### Splitting labels and features"
   ]
  },
  {
   "cell_type": "code",
   "execution_count": 4,
   "metadata": {},
   "outputs": [
    {
     "name": "stdout",
     "output_type": "stream",
     "text": [
      "(10000, 6)\n",
      "(10000, 1)\n"
     ]
    },
    {
     "data": {
      "text/plain": [
       "(Index(['usia', 'econ', 'pekerjaan', 'pinjaman ke', 'telat bayar', 'donasi'], dtype='object'),\n",
       " Index(['score'], dtype='object'))"
      ]
     },
     "execution_count": 4,
     "metadata": {},
     "output_type": "execute_result"
    }
   ],
   "source": [
    "features = data.drop(columns=['score'])\n",
    "label = data[['score']]\n",
    "\n",
    "print(features.shape)\n",
    "print(label.shape)\n",
    "\n",
    "features.columns, label.columns"
   ]
  },
  {
   "cell_type": "markdown",
   "metadata": {},
   "source": [
    "### Check Data Type\n",
    "Customize the data type according to the given metadata\n",
    "\n",
    "- **Categorical** (age, profession, loan number, late payment, donation)\n",
    "- **Numeric** (loan amount, tenor, income, dependents)"
   ]
  },
  {
   "cell_type": "code",
   "execution_count": 5,
   "metadata": {},
   "outputs": [
    {
     "name": "stdout",
     "output_type": "stream",
     "text": [
      "<class 'pandas.core.frame.DataFrame'>\n",
      "RangeIndex: 10000 entries, 0 to 9999\n",
      "Data columns (total 1 columns):\n",
      " #   Column  Non-Null Count  Dtype  \n",
      "---  ------  --------------  -----  \n",
      " 0   score   10000 non-null  float64\n",
      "dtypes: float64(1)\n",
      "memory usage: 78.2 KB\n"
     ]
    }
   ],
   "source": [
    "label.info()"
   ]
  },
  {
   "cell_type": "code",
   "execution_count": 6,
   "metadata": {},
   "outputs": [
    {
     "name": "stdout",
     "output_type": "stream",
     "text": [
      "<class 'pandas.core.frame.DataFrame'>\n",
      "RangeIndex: 10000 entries, 0 to 9999\n",
      "Data columns (total 1 columns):\n",
      " #   Column  Non-Null Count  Dtype\n",
      "---  ------  --------------  -----\n",
      " 0   score   10000 non-null  int64\n",
      "dtypes: int64(1)\n",
      "memory usage: 78.2 KB\n"
     ]
    },
    {
     "name": "stderr",
     "output_type": "stream",
     "text": [
      "C:\\Users\\farid\\AppData\\Local\\Temp\\ipykernel_19612\\3633695273.py:2: SettingWithCopyWarning: \n",
      "A value is trying to be set on a copy of a slice from a DataFrame.\n",
      "Try using .loc[row_indexer,col_indexer] = value instead\n",
      "\n",
      "See the caveats in the documentation: https://pandas.pydata.org/pandas-docs/stable/user_guide/indexing.html#returning-a-view-versus-a-copy\n",
      "  label[col_cat_label] = label[col_cat_label].astype('int64')\n"
     ]
    }
   ],
   "source": [
    "col_cat_label = ['score']\n",
    "label[col_cat_label] = label[col_cat_label].astype('int64')\n",
    "label.info()"
   ]
  },
  {
   "cell_type": "code",
   "execution_count": 7,
   "metadata": {},
   "outputs": [
    {
     "name": "stdout",
     "output_type": "stream",
     "text": [
      "<class 'pandas.core.frame.DataFrame'>\n",
      "RangeIndex: 10000 entries, 0 to 9999\n",
      "Data columns (total 6 columns):\n",
      " #   Column       Non-Null Count  Dtype  \n",
      "---  ------       --------------  -----  \n",
      " 0   usia         10000 non-null  float64\n",
      " 1   econ         10000 non-null  float64\n",
      " 2   pekerjaan    10000 non-null  float64\n",
      " 3   pinjaman ke  10000 non-null  float64\n",
      " 4   telat bayar  10000 non-null  float64\n",
      " 5   donasi       10000 non-null  float64\n",
      "dtypes: float64(6)\n",
      "memory usage: 468.9 KB\n"
     ]
    }
   ],
   "source": [
    "features.info()"
   ]
  },
  {
   "cell_type": "code",
   "execution_count": 8,
   "metadata": {},
   "outputs": [],
   "source": [
    "col_cat_features = ['usia' , 'econ' , 'pekerjaan' , 'pinjaman ke' , 'telat bayar' , 'donasi' ]\n",
    "\n",
    "features[col_cat_features] = features[col_cat_features].astype('int64')\n",
    "features[col_cat_features] = features[col_cat_features].astype('category')"
   ]
  },
  {
   "cell_type": "markdown",
   "metadata": {},
   "source": [
    "### Normalize Data"
   ]
  },
  {
   "cell_type": "code",
   "execution_count": 9,
   "metadata": {},
   "outputs": [
    {
     "data": {
      "text/html": [
       "<div>\n",
       "<style scoped>\n",
       "    .dataframe tbody tr th:only-of-type {\n",
       "        vertical-align: middle;\n",
       "    }\n",
       "\n",
       "    .dataframe tbody tr th {\n",
       "        vertical-align: top;\n",
       "    }\n",
       "\n",
       "    .dataframe thead th {\n",
       "        text-align: right;\n",
       "    }\n",
       "</style>\n",
       "<table border=\"1\" class=\"dataframe\">\n",
       "  <thead>\n",
       "    <tr style=\"text-align: right;\">\n",
       "      <th></th>\n",
       "      <th>usia</th>\n",
       "      <th>econ</th>\n",
       "      <th>pekerjaan</th>\n",
       "      <th>pinjaman ke</th>\n",
       "      <th>telat bayar</th>\n",
       "      <th>donasi</th>\n",
       "    </tr>\n",
       "  </thead>\n",
       "  <tbody>\n",
       "    <tr>\n",
       "      <th>0</th>\n",
       "      <td>1.0</td>\n",
       "      <td>1.0</td>\n",
       "      <td>1.0</td>\n",
       "      <td>1.0</td>\n",
       "      <td>0.000000</td>\n",
       "      <td>1.000000</td>\n",
       "    </tr>\n",
       "    <tr>\n",
       "      <th>1</th>\n",
       "      <td>0.0</td>\n",
       "      <td>0.0</td>\n",
       "      <td>0.0</td>\n",
       "      <td>0.0</td>\n",
       "      <td>1.000000</td>\n",
       "      <td>0.000000</td>\n",
       "    </tr>\n",
       "    <tr>\n",
       "      <th>2</th>\n",
       "      <td>0.0</td>\n",
       "      <td>0.0</td>\n",
       "      <td>0.0</td>\n",
       "      <td>0.5</td>\n",
       "      <td>0.666667</td>\n",
       "      <td>1.000000</td>\n",
       "    </tr>\n",
       "    <tr>\n",
       "      <th>3</th>\n",
       "      <td>1.0</td>\n",
       "      <td>1.0</td>\n",
       "      <td>0.0</td>\n",
       "      <td>0.5</td>\n",
       "      <td>0.333333</td>\n",
       "      <td>0.666667</td>\n",
       "    </tr>\n",
       "    <tr>\n",
       "      <th>4</th>\n",
       "      <td>1.0</td>\n",
       "      <td>1.0</td>\n",
       "      <td>1.0</td>\n",
       "      <td>0.5</td>\n",
       "      <td>0.666667</td>\n",
       "      <td>0.333333</td>\n",
       "    </tr>\n",
       "  </tbody>\n",
       "</table>\n",
       "</div>"
      ],
      "text/plain": [
       "   usia  econ  pekerjaan  pinjaman ke  telat bayar    donasi\n",
       "0   1.0   1.0        1.0          1.0     0.000000  1.000000\n",
       "1   0.0   0.0        0.0          0.0     1.000000  0.000000\n",
       "2   0.0   0.0        0.0          0.5     0.666667  1.000000\n",
       "3   1.0   1.0        0.0          0.5     0.333333  0.666667\n",
       "4   1.0   1.0        1.0          0.5     0.666667  0.333333"
      ]
     },
     "execution_count": 9,
     "metadata": {},
     "output_type": "execute_result"
    }
   ],
   "source": [
    "mx = MinMaxScaler()\n",
    "\n",
    "col_features = ['usia' , 'econ' , 'pekerjaan' , 'pinjaman ke' , 'telat bayar' , 'donasi' ]\n",
    "\n",
    "features[col_features] = mx.fit_transform(features[col_features])\n",
    "features.head(5)"
   ]
  },
  {
   "cell_type": "markdown",
   "metadata": {},
   "source": [
    "### Split Into Train and Test"
   ]
  },
  {
   "cell_type": "code",
   "execution_count": 10,
   "metadata": {},
   "outputs": [],
   "source": [
    "X_train, X_validate, y_train, y_validate = train_test_split(\n",
    "    features, label, test_size=0.3, shuffle=True)"
   ]
  },
  {
   "cell_type": "code",
   "execution_count": 11,
   "metadata": {},
   "outputs": [
    {
     "name": "stdout",
     "output_type": "stream",
     "text": [
      "(7000, 6)\n",
      "(7000, 1)\n",
      "(3000, 6)\n",
      "(3000, 1)\n"
     ]
    }
   ],
   "source": [
    "print(X_train.shape)\n",
    "print(y_train.shape)\n",
    "\n",
    "print(X_validate.shape)\n",
    "print(y_validate.shape)"
   ]
  },
  {
   "cell_type": "code",
   "execution_count": 12,
   "metadata": {},
   "outputs": [],
   "source": [
    "X_train = np.array(X_train, dtype='float32')\n",
    "X_validate = np.array(X_validate, dtype='float32')\n",
    "\n",
    "y_train = np.array(y_train, dtype='float32')\n",
    "y_validate = np.array(y_validate, dtype='float32')"
   ]
  },
  {
   "cell_type": "markdown",
   "metadata": {},
   "source": [
    "## Create TF Model"
   ]
  },
  {
   "cell_type": "code",
   "execution_count": null,
   "metadata": {},
   "outputs": [],
   "source": [
    "model = tf.keras.Sequential([\n",
    "    # tf.keras.layers.Dense(units=1, input_shape=[6], activation='linear'),\n",
    "    tf.keras.layers.Dense(10, activation=\"linear\", input_shape=X_train[0].shape),\n",
    "    tf.keras.layers.Dense(1),\n",
    "    ])\n",
    "\n",
    "# Compile the model\n",
    "model.compile(optimizer=tf.keras.optimizers.Adam(learning_rate = 0.001),\n",
    "            loss = tf.keras.losses.MeanAbsoluteError(),\n",
    "            metrics=['mae'])"
   ]
  },
  {
   "cell_type": "code",
   "execution_count": null,
   "metadata": {},
   "outputs": [],
   "source": [
    "mc = ModelCheckpoint('Credit Scoring - V4.h5', monitor='val_mae', mode='min', verbose=1, save_best_only=True)\n",
    "\n",
    "# Train the model\n",
    "history = model.fit(X_train, \n",
    "                y_train, \n",
    "                epochs=100,\n",
    "                callbacks = [mc],\n",
    "                validation_data=(X_validate, y_validate))"
   ]
  },
  {
   "cell_type": "code",
   "execution_count": null,
   "metadata": {},
   "outputs": [],
   "source": [
    "def plot_graphs(history, metric):\n",
    "    plt.plot(history.history[metric])\n",
    "    plt.plot(history.history[f'val_{metric}'])\n",
    "    plt.xlabel(\"Epochs\")\n",
    "    plt.ylabel(metric)\n",
    "    plt.legend([metric, f'val_{metric}'])\n",
    "    plt.title(f'Training and validation {metric} for Credit Scoring Model')\n",
    "    plt.show()\n",
    "    \n",
    "plot_graphs(history, \"loss\")\n",
    "plot_graphs(history, \"mae\")"
   ]
  },
  {
   "cell_type": "markdown",
   "metadata": {},
   "source": []
  }
 ],
 "metadata": {
  "interpreter": {
   "hash": "52634da84371cba311ea128a5ea7cdc41ff074b781779e754b270ff9f8153cee"
  },
  "kernelspec": {
   "display_name": "Python 3.9.7 64-bit",
   "language": "python",
   "name": "python3"
  },
  "language_info": {
   "codemirror_mode": {
    "name": "ipython",
    "version": 3
   },
   "file_extension": ".py",
   "mimetype": "text/x-python",
   "name": "python",
   "nbconvert_exporter": "python",
   "pygments_lexer": "ipython3",
   "version": "3.9.7"
  },
  "orig_nbformat": 4
 },
 "nbformat": 4,
 "nbformat_minor": 2
}
