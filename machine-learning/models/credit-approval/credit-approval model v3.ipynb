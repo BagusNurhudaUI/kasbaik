{
 "cells": [
  {
   "cell_type": "markdown",
   "metadata": {},
   "source": [
    "### Import Library"
   ]
  },
  {
   "cell_type": "code",
   "execution_count": 15,
   "metadata": {},
   "outputs": [],
   "source": [
    "import pandas as pd\n",
    "import numpy as np\n",
    "import seaborn as sns\n",
    "from matplotlib import pyplot as plt\n",
    "from sklearn.model_selection import train_test_split\n",
    "from sklearn.metrics import confusion_matrix\n",
    "from sklearn.metrics import classification_report\n",
    "from keras.callbacks import ModelCheckpoint\n",
    "import tensorflow as tf"
   ]
  },
  {
   "cell_type": "markdown",
   "metadata": {},
   "source": [
    "### Read Datasest"
   ]
  },
  {
   "cell_type": "code",
   "execution_count": 16,
   "metadata": {},
   "outputs": [
    {
     "name": "stdout",
     "output_type": "stream",
     "text": [
      "First line (header) looks like this:\n",
      "\n",
      "ï»¿;approval;gender;usia;pinjaman;tenor;pemasukan;tanggungan;pekerjaan;donasi\n",
      "\n",
      "Each data point looks like this:\n",
      "\n",
      "0;N;M;53;1800000;6;1500000;1;Buruh;0\n",
      "\n"
     ]
    }
   ],
   "source": [
    "data_dir = './dataset credit-approval/Datasets_Dummy_CreditApproval-v3.csv'\n",
    "with open(data_dir, 'r') as csvfile:\n",
    "    print(f\"First line (header) looks like this:\\n\\n{csvfile.readline()}\")\n",
    "    print(f\"Each data point looks like this:\\n\\n{csvfile.readline()}\")"
   ]
  },
  {
   "cell_type": "code",
   "execution_count": 17,
   "metadata": {},
   "outputs": [
    {
     "data": {
      "text/html": [
       "<div>\n",
       "<style scoped>\n",
       "    .dataframe tbody tr th:only-of-type {\n",
       "        vertical-align: middle;\n",
       "    }\n",
       "\n",
       "    .dataframe tbody tr th {\n",
       "        vertical-align: top;\n",
       "    }\n",
       "\n",
       "    .dataframe thead th {\n",
       "        text-align: right;\n",
       "    }\n",
       "</style>\n",
       "<table border=\"1\" class=\"dataframe\">\n",
       "  <thead>\n",
       "    <tr style=\"text-align: right;\">\n",
       "      <th></th>\n",
       "      <th>Unnamed: 0</th>\n",
       "      <th>approval</th>\n",
       "      <th>gender</th>\n",
       "      <th>usia</th>\n",
       "      <th>pinjaman</th>\n",
       "      <th>tenor</th>\n",
       "      <th>pemasukan</th>\n",
       "      <th>tanggungan</th>\n",
       "      <th>pekerjaan</th>\n",
       "      <th>donasi</th>\n",
       "    </tr>\n",
       "  </thead>\n",
       "  <tbody>\n",
       "    <tr>\n",
       "      <th>0</th>\n",
       "      <td>0</td>\n",
       "      <td>N</td>\n",
       "      <td>M</td>\n",
       "      <td>53</td>\n",
       "      <td>1800000</td>\n",
       "      <td>6</td>\n",
       "      <td>1500000</td>\n",
       "      <td>1</td>\n",
       "      <td>Buruh</td>\n",
       "      <td>0</td>\n",
       "    </tr>\n",
       "    <tr>\n",
       "      <th>1</th>\n",
       "      <td>1</td>\n",
       "      <td>Y</td>\n",
       "      <td>M</td>\n",
       "      <td>61</td>\n",
       "      <td>500000</td>\n",
       "      <td>4</td>\n",
       "      <td>3500000</td>\n",
       "      <td>0</td>\n",
       "      <td>Guru/Dosen</td>\n",
       "      <td>3</td>\n",
       "    </tr>\n",
       "    <tr>\n",
       "      <th>2</th>\n",
       "      <td>2</td>\n",
       "      <td>N</td>\n",
       "      <td>M</td>\n",
       "      <td>33</td>\n",
       "      <td>1000000</td>\n",
       "      <td>6</td>\n",
       "      <td>1200000</td>\n",
       "      <td>0</td>\n",
       "      <td>Pedagang</td>\n",
       "      <td>6</td>\n",
       "    </tr>\n",
       "    <tr>\n",
       "      <th>3</th>\n",
       "      <td>3</td>\n",
       "      <td>N</td>\n",
       "      <td>M</td>\n",
       "      <td>37</td>\n",
       "      <td>1200000</td>\n",
       "      <td>16</td>\n",
       "      <td>1800000</td>\n",
       "      <td>5</td>\n",
       "      <td>Pekerja Lepas</td>\n",
       "      <td>5</td>\n",
       "    </tr>\n",
       "    <tr>\n",
       "      <th>4</th>\n",
       "      <td>4</td>\n",
       "      <td>Y</td>\n",
       "      <td>F</td>\n",
       "      <td>36</td>\n",
       "      <td>1200000</td>\n",
       "      <td>10</td>\n",
       "      <td>4600000</td>\n",
       "      <td>1</td>\n",
       "      <td>Buruh</td>\n",
       "      <td>4</td>\n",
       "    </tr>\n",
       "  </tbody>\n",
       "</table>\n",
       "</div>"
      ],
      "text/plain": [
       "   Unnamed: 0 approval gender  usia  pinjaman  tenor  pemasukan  tanggungan  \\\n",
       "0           0        N      M    53   1800000      6    1500000           1   \n",
       "1           1        Y      M    61    500000      4    3500000           0   \n",
       "2           2        N      M    33   1000000      6    1200000           0   \n",
       "3           3        N      M    37   1200000     16    1800000           5   \n",
       "4           4        Y      F    36   1200000     10    4600000           1   \n",
       "\n",
       "       pekerjaan  donasi  \n",
       "0          Buruh       0  \n",
       "1     Guru/Dosen       3  \n",
       "2       Pedagang       6  \n",
       "3  Pekerja Lepas       5  \n",
       "4          Buruh       4  "
      ]
     },
     "execution_count": 17,
     "metadata": {},
     "output_type": "execute_result"
    }
   ],
   "source": [
    "df  = pd.read_csv(data_dir, delimiter=';')\n",
    "df.head()"
   ]
  },
  {
   "cell_type": "code",
   "execution_count": 18,
   "metadata": {},
   "outputs": [
    {
     "data": {
      "text/html": [
       "<div>\n",
       "<style scoped>\n",
       "    .dataframe tbody tr th:only-of-type {\n",
       "        vertical-align: middle;\n",
       "    }\n",
       "\n",
       "    .dataframe tbody tr th {\n",
       "        vertical-align: top;\n",
       "    }\n",
       "\n",
       "    .dataframe thead th {\n",
       "        text-align: right;\n",
       "    }\n",
       "</style>\n",
       "<table border=\"1\" class=\"dataframe\">\n",
       "  <thead>\n",
       "    <tr style=\"text-align: right;\">\n",
       "      <th></th>\n",
       "      <th>approval</th>\n",
       "      <th>gender</th>\n",
       "      <th>usia</th>\n",
       "      <th>pinjaman</th>\n",
       "      <th>tenor</th>\n",
       "      <th>pemasukan</th>\n",
       "      <th>tanggungan</th>\n",
       "      <th>pekerjaan</th>\n",
       "      <th>donasi</th>\n",
       "    </tr>\n",
       "  </thead>\n",
       "  <tbody>\n",
       "    <tr>\n",
       "      <th>0</th>\n",
       "      <td>N</td>\n",
       "      <td>M</td>\n",
       "      <td>53</td>\n",
       "      <td>1800000</td>\n",
       "      <td>6</td>\n",
       "      <td>1500000</td>\n",
       "      <td>1</td>\n",
       "      <td>Buruh</td>\n",
       "      <td>0</td>\n",
       "    </tr>\n",
       "    <tr>\n",
       "      <th>1</th>\n",
       "      <td>Y</td>\n",
       "      <td>M</td>\n",
       "      <td>61</td>\n",
       "      <td>500000</td>\n",
       "      <td>4</td>\n",
       "      <td>3500000</td>\n",
       "      <td>0</td>\n",
       "      <td>Guru/Dosen</td>\n",
       "      <td>3</td>\n",
       "    </tr>\n",
       "    <tr>\n",
       "      <th>2</th>\n",
       "      <td>N</td>\n",
       "      <td>M</td>\n",
       "      <td>33</td>\n",
       "      <td>1000000</td>\n",
       "      <td>6</td>\n",
       "      <td>1200000</td>\n",
       "      <td>0</td>\n",
       "      <td>Pedagang</td>\n",
       "      <td>6</td>\n",
       "    </tr>\n",
       "    <tr>\n",
       "      <th>3</th>\n",
       "      <td>N</td>\n",
       "      <td>M</td>\n",
       "      <td>37</td>\n",
       "      <td>1200000</td>\n",
       "      <td>16</td>\n",
       "      <td>1800000</td>\n",
       "      <td>5</td>\n",
       "      <td>Pekerja Lepas</td>\n",
       "      <td>5</td>\n",
       "    </tr>\n",
       "    <tr>\n",
       "      <th>4</th>\n",
       "      <td>Y</td>\n",
       "      <td>F</td>\n",
       "      <td>36</td>\n",
       "      <td>1200000</td>\n",
       "      <td>10</td>\n",
       "      <td>4600000</td>\n",
       "      <td>1</td>\n",
       "      <td>Buruh</td>\n",
       "      <td>4</td>\n",
       "    </tr>\n",
       "  </tbody>\n",
       "</table>\n",
       "</div>"
      ],
      "text/plain": [
       "  approval gender  usia  pinjaman  tenor  pemasukan  tanggungan  \\\n",
       "0        N      M    53   1800000      6    1500000           1   \n",
       "1        Y      M    61    500000      4    3500000           0   \n",
       "2        N      M    33   1000000      6    1200000           0   \n",
       "3        N      M    37   1200000     16    1800000           5   \n",
       "4        Y      F    36   1200000     10    4600000           1   \n",
       "\n",
       "       pekerjaan  donasi  \n",
       "0          Buruh       0  \n",
       "1     Guru/Dosen       3  \n",
       "2       Pedagang       6  \n",
       "3  Pekerja Lepas       5  \n",
       "4          Buruh       4  "
      ]
     },
     "execution_count": 18,
     "metadata": {},
     "output_type": "execute_result"
    }
   ],
   "source": [
    "data = df.drop('Unnamed: 0', axis=1)\n",
    "data.head()"
   ]
  },
  {
   "cell_type": "markdown",
   "metadata": {},
   "source": [
    "### Change Categorical to Numeric Value"
   ]
  },
  {
   "cell_type": "code",
   "execution_count": 19,
   "metadata": {},
   "outputs": [],
   "source": [
    "def Cat_to_Num(features):\n",
    "    for feature in features:\n",
    "        feature_list = list(np.unique(data[feature]))\n",
    "        feature_dict = {}\n",
    "        for i in range(len(feature_list)):\n",
    "                       feature_dict[feature_list[i]] = i\n",
    "        data.replace({feature : feature_dict}, inplace=True)\n",
    "        print(feature, '-->', feature_dict)"
   ]
  },
  {
   "cell_type": "code",
   "execution_count": 20,
   "metadata": {},
   "outputs": [
    {
     "name": "stdout",
     "output_type": "stream",
     "text": [
      "approval --> {'N': 0, 'Y': 1}\n",
      "gender --> {'F': 0, 'M': 1}\n",
      "pekerjaan --> {'Buruh': 0, 'Guru/Dosen': 1, 'Pedagang': 2, 'Pekerja Lepas': 3, 'Wirausaha': 4}\n"
     ]
    }
   ],
   "source": [
    "categorical_features = ['approval', 'gender','pekerjaan']\n",
    "Cat_to_Num(categorical_features)"
   ]
  },
  {
   "cell_type": "code",
   "execution_count": 21,
   "metadata": {},
   "outputs": [
    {
     "name": "stdout",
     "output_type": "stream",
     "text": [
      "<class 'pandas.core.frame.DataFrame'>\n",
      "RangeIndex: 10000 entries, 0 to 9999\n",
      "Data columns (total 9 columns):\n",
      " #   Column      Non-Null Count  Dtype\n",
      "---  ------      --------------  -----\n",
      " 0   approval    10000 non-null  int64\n",
      " 1   gender      10000 non-null  int64\n",
      " 2   usia        10000 non-null  int64\n",
      " 3   pinjaman    10000 non-null  int64\n",
      " 4   tenor       10000 non-null  int64\n",
      " 5   pemasukan   10000 non-null  int64\n",
      " 6   tanggungan  10000 non-null  int64\n",
      " 7   pekerjaan   10000 non-null  int64\n",
      " 8   donasi      10000 non-null  int64\n",
      "dtypes: int64(9)\n",
      "memory usage: 703.2 KB\n"
     ]
    }
   ],
   "source": [
    "data.info()"
   ]
  },
  {
   "cell_type": "markdown",
   "metadata": {},
   "source": [
    "### Define labels and features"
   ]
  },
  {
   "cell_type": "code",
   "execution_count": 22,
   "metadata": {},
   "outputs": [],
   "source": [
    "labels = data['approval']\n",
    "features = data.drop('approval', axis=1)"
   ]
  },
  {
   "cell_type": "code",
   "execution_count": 23,
   "metadata": {},
   "outputs": [],
   "source": [
    "col_features = ['gender', 'usia', 'pinjaman', 'tenor', 'pemasukan', 'tanggungan', 'pekerjaan', 'donasi']\n",
    "\n",
    "features[col_features] = features[col_features].astype('int64')"
   ]
  },
  {
   "cell_type": "code",
   "execution_count": 24,
   "metadata": {},
   "outputs": [
    {
     "data": {
      "text/html": [
       "<div>\n",
       "<style scoped>\n",
       "    .dataframe tbody tr th:only-of-type {\n",
       "        vertical-align: middle;\n",
       "    }\n",
       "\n",
       "    .dataframe tbody tr th {\n",
       "        vertical-align: top;\n",
       "    }\n",
       "\n",
       "    .dataframe thead th {\n",
       "        text-align: right;\n",
       "    }\n",
       "</style>\n",
       "<table border=\"1\" class=\"dataframe\">\n",
       "  <thead>\n",
       "    <tr style=\"text-align: right;\">\n",
       "      <th></th>\n",
       "      <th>gender</th>\n",
       "      <th>usia</th>\n",
       "      <th>pinjaman</th>\n",
       "      <th>tenor</th>\n",
       "      <th>pemasukan</th>\n",
       "      <th>tanggungan</th>\n",
       "      <th>pekerjaan</th>\n",
       "      <th>donasi</th>\n",
       "    </tr>\n",
       "  </thead>\n",
       "  <tbody>\n",
       "    <tr>\n",
       "      <th>0</th>\n",
       "      <td>1</td>\n",
       "      <td>53</td>\n",
       "      <td>1800000</td>\n",
       "      <td>6</td>\n",
       "      <td>1500000</td>\n",
       "      <td>1</td>\n",
       "      <td>0</td>\n",
       "      <td>0</td>\n",
       "    </tr>\n",
       "    <tr>\n",
       "      <th>1</th>\n",
       "      <td>1</td>\n",
       "      <td>61</td>\n",
       "      <td>500000</td>\n",
       "      <td>4</td>\n",
       "      <td>3500000</td>\n",
       "      <td>0</td>\n",
       "      <td>1</td>\n",
       "      <td>3</td>\n",
       "    </tr>\n",
       "    <tr>\n",
       "      <th>2</th>\n",
       "      <td>1</td>\n",
       "      <td>33</td>\n",
       "      <td>1000000</td>\n",
       "      <td>6</td>\n",
       "      <td>1200000</td>\n",
       "      <td>0</td>\n",
       "      <td>2</td>\n",
       "      <td>6</td>\n",
       "    </tr>\n",
       "    <tr>\n",
       "      <th>3</th>\n",
       "      <td>1</td>\n",
       "      <td>37</td>\n",
       "      <td>1200000</td>\n",
       "      <td>16</td>\n",
       "      <td>1800000</td>\n",
       "      <td>5</td>\n",
       "      <td>3</td>\n",
       "      <td>5</td>\n",
       "    </tr>\n",
       "    <tr>\n",
       "      <th>4</th>\n",
       "      <td>0</td>\n",
       "      <td>36</td>\n",
       "      <td>1200000</td>\n",
       "      <td>10</td>\n",
       "      <td>4600000</td>\n",
       "      <td>1</td>\n",
       "      <td>0</td>\n",
       "      <td>4</td>\n",
       "    </tr>\n",
       "  </tbody>\n",
       "</table>\n",
       "</div>"
      ],
      "text/plain": [
       "   gender  usia  pinjaman  tenor  pemasukan  tanggungan  pekerjaan  donasi\n",
       "0       1    53   1800000      6    1500000           1          0       0\n",
       "1       1    61    500000      4    3500000           0          1       3\n",
       "2       1    33   1000000      6    1200000           0          2       6\n",
       "3       1    37   1200000     16    1800000           5          3       5\n",
       "4       0    36   1200000     10    4600000           1          0       4"
      ]
     },
     "execution_count": 24,
     "metadata": {},
     "output_type": "execute_result"
    }
   ],
   "source": [
    "features.head(5)"
   ]
  },
  {
   "cell_type": "markdown",
   "metadata": {},
   "source": [
    "### Normalize Data"
   ]
  },
  {
   "cell_type": "code",
   "execution_count": 25,
   "metadata": {},
   "outputs": [],
   "source": [
    "from sklearn.preprocessing import MinMaxScaler\n",
    "mx = MinMaxScaler()"
   ]
  },
  {
   "cell_type": "code",
   "execution_count": 26,
   "metadata": {},
   "outputs": [
    {
     "data": {
      "text/html": [
       "<div>\n",
       "<style scoped>\n",
       "    .dataframe tbody tr th:only-of-type {\n",
       "        vertical-align: middle;\n",
       "    }\n",
       "\n",
       "    .dataframe tbody tr th {\n",
       "        vertical-align: top;\n",
       "    }\n",
       "\n",
       "    .dataframe thead th {\n",
       "        text-align: right;\n",
       "    }\n",
       "</style>\n",
       "<table border=\"1\" class=\"dataframe\">\n",
       "  <thead>\n",
       "    <tr style=\"text-align: right;\">\n",
       "      <th></th>\n",
       "      <th>gender</th>\n",
       "      <th>usia</th>\n",
       "      <th>pinjaman</th>\n",
       "      <th>tenor</th>\n",
       "      <th>pemasukan</th>\n",
       "      <th>tanggungan</th>\n",
       "      <th>pekerjaan</th>\n",
       "      <th>donasi</th>\n",
       "    </tr>\n",
       "  </thead>\n",
       "  <tbody>\n",
       "    <tr>\n",
       "      <th>0</th>\n",
       "      <td>1.0</td>\n",
       "      <td>0.4125</td>\n",
       "      <td>0.52</td>\n",
       "      <td>0.176471</td>\n",
       "      <td>0.078947</td>\n",
       "      <td>0.2</td>\n",
       "      <td>0.00</td>\n",
       "      <td>0.000</td>\n",
       "    </tr>\n",
       "    <tr>\n",
       "      <th>1</th>\n",
       "      <td>1.0</td>\n",
       "      <td>0.5125</td>\n",
       "      <td>0.00</td>\n",
       "      <td>0.058824</td>\n",
       "      <td>0.605263</td>\n",
       "      <td>0.0</td>\n",
       "      <td>0.25</td>\n",
       "      <td>0.375</td>\n",
       "    </tr>\n",
       "    <tr>\n",
       "      <th>2</th>\n",
       "      <td>1.0</td>\n",
       "      <td>0.1625</td>\n",
       "      <td>0.20</td>\n",
       "      <td>0.176471</td>\n",
       "      <td>0.000000</td>\n",
       "      <td>0.0</td>\n",
       "      <td>0.50</td>\n",
       "      <td>0.750</td>\n",
       "    </tr>\n",
       "    <tr>\n",
       "      <th>3</th>\n",
       "      <td>1.0</td>\n",
       "      <td>0.2125</td>\n",
       "      <td>0.28</td>\n",
       "      <td>0.764706</td>\n",
       "      <td>0.157895</td>\n",
       "      <td>1.0</td>\n",
       "      <td>0.75</td>\n",
       "      <td>0.625</td>\n",
       "    </tr>\n",
       "    <tr>\n",
       "      <th>4</th>\n",
       "      <td>0.0</td>\n",
       "      <td>0.2000</td>\n",
       "      <td>0.28</td>\n",
       "      <td>0.411765</td>\n",
       "      <td>0.894737</td>\n",
       "      <td>0.2</td>\n",
       "      <td>0.00</td>\n",
       "      <td>0.500</td>\n",
       "    </tr>\n",
       "  </tbody>\n",
       "</table>\n",
       "</div>"
      ],
      "text/plain": [
       "   gender    usia  pinjaman     tenor  pemasukan  tanggungan  pekerjaan  \\\n",
       "0     1.0  0.4125      0.52  0.176471   0.078947         0.2       0.00   \n",
       "1     1.0  0.5125      0.00  0.058824   0.605263         0.0       0.25   \n",
       "2     1.0  0.1625      0.20  0.176471   0.000000         0.0       0.50   \n",
       "3     1.0  0.2125      0.28  0.764706   0.157895         1.0       0.75   \n",
       "4     0.0  0.2000      0.28  0.411765   0.894737         0.2       0.00   \n",
       "\n",
       "   donasi  \n",
       "0   0.000  \n",
       "1   0.375  \n",
       "2   0.750  \n",
       "3   0.625  \n",
       "4   0.500  "
      ]
     },
     "execution_count": 26,
     "metadata": {},
     "output_type": "execute_result"
    }
   ],
   "source": [
    "col_features = ['gender', 'usia', 'pinjaman', 'tenor', 'pemasukan', \n",
    "                'tanggungan', 'pekerjaan', 'donasi']\n",
    "\n",
    "features[col_features] = mx.fit_transform(features[col_features])\n",
    "features.head(5)"
   ]
  },
  {
   "cell_type": "code",
   "execution_count": null,
   "metadata": {},
   "outputs": [],
   "source": []
  }
 ],
 "metadata": {
  "interpreter": {
   "hash": "52634da84371cba311ea128a5ea7cdc41ff074b781779e754b270ff9f8153cee"
  },
  "kernelspec": {
   "display_name": "Python 3.9.7 64-bit",
   "language": "python",
   "name": "python3"
  },
  "language_info": {
   "codemirror_mode": {
    "name": "ipython",
    "version": 3
   },
   "file_extension": ".py",
   "mimetype": "text/x-python",
   "name": "python",
   "nbconvert_exporter": "python",
   "pygments_lexer": "ipython3",
   "version": "3.9.7"
  },
  "orig_nbformat": 4
 },
 "nbformat": 4,
 "nbformat_minor": 2
}
